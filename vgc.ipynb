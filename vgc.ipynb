{
 "cells": [
  {
   "cell_type": "code",
   "execution_count": 1,
   "metadata": {},
   "outputs": [],
   "source": [
    "import numpy as np\n",
    "from matplotlib import pyplot as plt\n",
    "import json"
   ]
  },
  {
   "cell_type": "code",
   "execution_count": 2,
   "metadata": {},
   "outputs": [],
   "source": [
    "with open('gen8vgc2021series9-1760.json') as file:\n",
    "    vgc_high = json.load(file)\n",
    "with open('gen8vgc2021series9-1630.json') as file:\n",
    "    vgc_med = json.load(file)\n",
    "with open('gen8vgc2021series9-1500.json') as file:\n",
    "    vgc_low = json.load(file)"
   ]
  },
  {
   "cell_type": "code",
   "execution_count": 4,
   "metadata": {},
   "outputs": [
    {
     "name": "stdout",
     "output_type": "stream",
     "text": [
      "316\n",
      "326\n",
      "386\n"
     ]
    }
   ],
   "source": [
    "print(len(vgc_high['data']))\n",
    "print(len(vgc_med['data']))\n",
    "print(len(vgc_low['data']))"
   ]
  },
  {
   "cell_type": "code",
   "execution_count": 5,
   "metadata": {},
   "outputs": [
    {
     "name": "stdout",
     "output_type": "stream",
     "text": [
      "316\n"
     ]
    }
   ],
   "source": [
    "pokelist_high = list(vgc_high['data'].keys())\n",
    "usage_high = np.zeros((len(pokelist_high), len(pokelist_high)))\n",
    "print(len(pokelist_high))\n",
    "for p in pokelist_high"
   ]
  },
  {
   "cell_type": "code",
   "execution_count": 28,
   "metadata": {},
   "outputs": [],
   "source": [
    "invis_tmate = [(p,tm,ct) for p in pokelist_high for tm, ct in vgc_high['data'][p]['Teammates'].items() if ct > 0 and tm not in pokelist_high]"
   ]
  },
  {
   "cell_type": "code",
   "execution_count": 29,
   "metadata": {},
   "outputs": [
    {
     "data": {
      "text/plain": [
       "[('Porygon-Z', 'Linoone', 5.23398e-05),\n",
       " ('Porygon-Z', 'Psyduck', 2.451e-07),\n",
       " ('Porygon-Z', 'Exploud', 6.75e-07),\n",
       " ('Porygon-Z', 'Wooper', 0.0046671783),\n",
       " ('Porygon-Z', 'Unfezant', 1e-10),\n",
       " ('Porygon-Z', 'Gourgeist-Small', 0.0603110268),\n",
       " ('Porygon-Z', 'Gourgeist', 0.000297499),\n",
       " ('Porygon-Z', 'Galvantula', 1e-10),\n",
       " ('Porygon-Z', 'Scraggy', 0.3280092724),\n",
       " ('Porygon-Z', 'Hitmonchan', 2e-10)]"
      ]
     },
     "execution_count": 29,
     "metadata": {},
     "output_type": "execute_result"
    }
   ],
   "source": [
    "invis_tmate[:10]"
   ]
  },
  {
   "cell_type": "code",
   "execution_count": 19,
   "metadata": {},
   "outputs": [
    {
     "name": "stdout",
     "output_type": "stream",
     "text": [
      "245.37252814640001\n",
      "380\n",
      "0.0117346\n",
      "30148\n",
      "2569154.4662792087\n"
     ]
    }
   ],
   "source": [
    "print(sum(vgc_high['data'][pokelist_high[0]]['Teammates'].values()))\n",
    "print(len(vgc_high['data'][pokelist_high[0]]['Teammates'].values()))\n",
    "print(vgc_high['data'][pokelist_high[0]]['usage'])\n",
    "print(vgc_high['data'][pokelist_high[0]]['Raw count'])\n",
    "print(vgc_high['data'][pokelist_high[0]]['Raw count'] / vgc_high['data'][pokelist_high[0]]['usage'])\n"
   ]
  },
  {
   "cell_type": "code",
   "execution_count": 21,
   "metadata": {},
   "outputs": [],
   "source": [
    "total_count = sum( vgc_high['data'][p]['Raw count'] for p in pokelist_high)\n",
    "est_count = [vgc_high['data'][p]['Raw count'] / vgc_high['data'][p]['usage'] for p in pokelist_high]"
   ]
  },
  {
   "cell_type": "code",
   "execution_count": 22,
   "metadata": {},
   "outputs": [
    {
     "name": "stdout",
     "output_type": "stream",
     "text": [
      "13297129\n",
      "8428371.881720316  +- 6994025.097879148\n"
     ]
    }
   ],
   "source": [
    "print(total_count)\n",
    "print(np.mean(est_count),' +-', np.std(est_count))"
   ]
  },
  {
   "cell_type": "code",
   "execution_count": 30,
   "metadata": {},
   "outputs": [],
   "source": [
    "tmates = [(p,tm,ct) for p in pokelist_high for tm, ct in vgc_high['data'][p]['Teammates'].items() ]"
   ]
  },
  {
   "cell_type": "code",
   "execution_count": 31,
   "metadata": {},
   "outputs": [],
   "source": [
    "sort_tmates = sorted(tmates, key=lambda x: x[2])"
   ]
  },
  {
   "cell_type": "code",
   "execution_count": 32,
   "metadata": {},
   "outputs": [
    {
     "data": {
      "text/plain": [
       "[('Porygon-Z', 'Mr. Mime-Galar', 0.0),\n",
       " ('Porygon-Z', 'Torracat', 0.0),\n",
       " ('Porygon-Z', 'Poliwrath', 0.0),\n",
       " ('Porygon-Z', 'Emolga', 0.0),\n",
       " ('Porygon-Z', 'Wobbuffet', 0.0),\n",
       " ('Porygon-Z', 'Tangela', 0.0),\n",
       " ('Porygon-Z', 'Mawile', 0.0),\n",
       " ('Porygon-Z', 'Gothorita', 0.0),\n",
       " ('Porygon-Z', 'Eiscue', 0.0),\n",
       " ('Porygon-Z', 'Frosmoth', 0.0)]"
      ]
     },
     "execution_count": 32,
     "metadata": {},
     "output_type": "execute_result"
    }
   ],
   "source": [
    "sort_tmates[:10]"
   ]
  },
  {
   "cell_type": "code",
   "execution_count": 34,
   "metadata": {},
   "outputs": [
    {
     "data": {
      "text/plain": [
       "[('Urshifu-Rapid-Strike', 'Dragapult', 239.7569830632),\n",
       " ('Dragapult', 'Urshifu-Rapid-Strike', 239.7569830632),\n",
       " ('Regieleki', 'Rillaboom', 241.8520929446),\n",
       " ('Rillaboom', 'Regieleki', 241.8520929446),\n",
       " ('Urshifu', 'Glastrier', 245.0319820501),\n",
       " ('Glastrier', 'Urshifu', 245.0319820501),\n",
       " ('Urshifu', 'Incineroar', 248.2856091966),\n",
       " ('Incineroar', 'Urshifu', 248.2856091966),\n",
       " ('Urshifu-Rapid-Strike', 'Grimmsnarl', 251.4396977932),\n",
       " ('Grimmsnarl', 'Urshifu-Rapid-Strike', 251.4396977932),\n",
       " ('Tapu Fini', 'Glastrier', 251.6376081202),\n",
       " ('Glastrier', 'Tapu Fini', 251.6376081202),\n",
       " ('Spectrier', 'Regieleki', 254.7373178776),\n",
       " ('Regieleki', 'Spectrier', 254.7373178776),\n",
       " ('Porygon2', 'Glastrier', 255.5428978166),\n",
       " ('Glastrier', 'Porygon2', 255.5428978166),\n",
       " ('Dragapult', 'Rillaboom', 259.5163271577),\n",
       " ('Rillaboom', 'Dragapult', 259.5163271577),\n",
       " ('Celesteela', 'Urshifu-Rapid-Strike', 261.9751477162),\n",
       " ('Urshifu-Rapid-Strike', 'Celesteela', 261.9751477162),\n",
       " ('Porygon2', 'Regieleki', 263.2171772208),\n",
       " ('Regieleki', 'Porygon2', 263.2171772208),\n",
       " ('Urshifu', 'Landorus-Therian', 263.665926248),\n",
       " ('Landorus-Therian', 'Urshifu', 263.665926248),\n",
       " ('Incineroar', 'Dragapult', 267.1281698372),\n",
       " ('Dragapult', 'Incineroar', 267.1281698372),\n",
       " ('Spectrier', 'Urshifu-Rapid-Strike', 280.8009326995),\n",
       " ('Urshifu-Rapid-Strike', 'Spectrier', 280.8009326995),\n",
       " ('Grimmsnarl', 'Tapu Fini', 282.7492512636),\n",
       " ('Tapu Fini', 'Grimmsnarl', 282.7492512636),\n",
       " ('Urshifu', 'Porygon2', 311.1289050099),\n",
       " ('Porygon2', 'Urshifu', 311.1289050099),\n",
       " ('Incineroar', 'Porygon2', 312.5346153668),\n",
       " ('Porygon2', 'Incineroar', 312.5346153668),\n",
       " ('Incineroar', 'Rillaboom', 320.075496477),\n",
       " ('Rillaboom', 'Incineroar', 320.075496477),\n",
       " ('Regieleki', 'Tapu Fini', 320.8809195848),\n",
       " ('Tapu Fini', 'Regieleki', 320.8809195848),\n",
       " ('Porygon2', 'Tapu Fini', 321.569172345),\n",
       " ('Tapu Fini', 'Porygon2', 321.569172345),\n",
       " ('Landorus-Therian', 'Porygon2', 325.7119382019),\n",
       " ('Porygon2', 'Landorus-Therian', 325.7119382019),\n",
       " ('Grimmsnarl', 'Rillaboom', 326.2679965181),\n",
       " ('Rillaboom', 'Grimmsnarl', 326.2679965181),\n",
       " ('Landorus-Therian', 'Incineroar', 332.6603719675),\n",
       " ('Incineroar', 'Landorus-Therian', 332.6603719675),\n",
       " ('Landorus-Therian', 'Grimmsnarl', 337.0841801437),\n",
       " ('Grimmsnarl', 'Landorus-Therian', 337.0841801437),\n",
       " ('Urshifu-Rapid-Strike', 'Regieleki', 337.451811733),\n",
       " ('Regieleki', 'Urshifu-Rapid-Strike', 337.451811733),\n",
       " ('Celesteela', 'Rillaboom', 337.8432523824),\n",
       " ('Rillaboom', 'Celesteela', 337.8432523824),\n",
       " ('Porygon2', 'Grimmsnarl', 342.1682550587),\n",
       " ('Grimmsnarl', 'Porygon2', 342.1682550587),\n",
       " ('Incineroar', 'Urshifu-Rapid-Strike', 353.1177255913),\n",
       " ('Urshifu-Rapid-Strike', 'Incineroar', 353.1177255913),\n",
       " ('Incineroar', 'Glastrier', 358.7272638265),\n",
       " ('Glastrier', 'Incineroar', 358.7272638265),\n",
       " ('Urshifu', 'Regieleki', 385.0558163564),\n",
       " ('Regieleki', 'Urshifu', 385.0558163564),\n",
       " ('Celesteela', 'Grimmsnarl', 401.2588467881),\n",
       " ('Grimmsnarl', 'Celesteela', 401.2588467881),\n",
       " ('Venusaur', 'Porygon2', 408.8700829573),\n",
       " ('Porygon2', 'Venusaur', 408.8700829573),\n",
       " ('Porygon2', 'Torkoal', 414.3717734185),\n",
       " ('Torkoal', 'Porygon2', 414.3717734185),\n",
       " ('Landorus-Therian', 'Tapu Fini', 416.6464662341),\n",
       " ('Tapu Fini', 'Landorus-Therian', 416.6464662341),\n",
       " ('Incineroar', 'Tapu Fini', 467.7513026861),\n",
       " ('Tapu Fini', 'Incineroar', 467.7513026861),\n",
       " ('Incineroar', 'Regieleki', 477.9148476655),\n",
       " ('Regieleki', 'Incineroar', 477.9148476655),\n",
       " ('Regieleki', 'Glastrier', 479.2027168963),\n",
       " ('Glastrier', 'Regieleki', 479.2027168963),\n",
       " ('Landorus-Therian', 'Regieleki', 498.4939726596),\n",
       " ('Regieleki', 'Landorus-Therian', 498.4939726596),\n",
       " ('Venusaur', 'Torkoal', 597.6184079733),\n",
       " ('Torkoal', 'Venusaur', 597.6184079733),\n",
       " ('Urshifu-Rapid-Strike', 'Rillaboom', 623.3175128395),\n",
       " ('Rillaboom', 'Urshifu-Rapid-Strike', 623.3175128395)]"
      ]
     },
     "execution_count": 34,
     "metadata": {},
     "output_type": "execute_result"
    }
   ],
   "source": [
    "sort_tmates[-80:]"
   ]
  },
  {
   "cell_type": "code",
   "execution_count": null,
   "metadata": {},
   "outputs": [],
   "source": []
  }
 ],
 "metadata": {
  "kernelspec": {
   "display_name": "Python 3",
   "language": "python",
   "name": "python3"
  },
  "language_info": {
   "codemirror_mode": {
    "name": "ipython",
    "version": 3
   },
   "file_extension": ".py",
   "mimetype": "text/x-python",
   "name": "python",
   "nbconvert_exporter": "python",
   "pygments_lexer": "ipython3",
   "version": "3.7.4"
  }
 },
 "nbformat": 4,
 "nbformat_minor": 2
}
