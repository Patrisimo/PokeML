{
 "cells": [
  {
   "cell_type": "code",
   "execution_count": 1,
   "metadata": {},
   "outputs": [],
   "source": [
    "import json\n",
    "import numpy as np"
   ]
  },
  {
   "cell_type": "markdown",
   "metadata": {},
   "source": [
    "This Jupyter Notebook is intended to show the code behind the text of my blog post on Data Science using a Pokemon dataset. The first thing we'll do it load the dataset, which I have already assembled and cleaned."
   ]
  },
  {
   "cell_type": "code",
   "execution_count": 35,
   "metadata": {},
   "outputs": [],
   "source": [
    "with open('pokeml.json') as file:\n",
    "    pokedata = json.load(file)\n",
    "\n",
    "pokedex = pokedata['pokedex']\n",
    "pokelist = list(pokedex.keys())\n",
    "movelist = pokedata['moves']\n",
    "abilitylist = pokedata['abilities']\n",
    "typelist = pokedata['types']"
   ]
  },
  {
   "cell_type": "markdown",
   "metadata": {},
   "source": [
    "For example, to get the Magikarp data shown in the post, we can merely look it up."
   ]
  },
  {
   "cell_type": "code",
   "execution_count": 42,
   "metadata": {},
   "outputs": [
    {
     "name": "stdout",
     "output_type": "stream",
     "text": [
      "{'stats': {'hp': 20, 'atk': 10, 'def': 55, 'spa': 15, 'spd': 20, 'spe': 80}, 'types': ['Water'], 'abilities': ['Swift Swim', 'Rattled'], 'hasEvo': 1, 'learnset': ['tackle', 'hydropump', 'bounce', 'flail', 'splash']}\n"
     ]
    }
   ],
   "source": [
    "print(pokedex['magikarp'])"
   ]
  },
  {
   "cell_type": "markdown",
   "metadata": {},
   "source": [
    "Our strategy is to encode each Pokemon via a bitvector of its Types, a bit for whether it can evolve, its stats numerical value, a bitvector for the stat's unique value, a bitvector for the Abilities, and a bitvector for the Moves.\n",
    "\n",
    "First, we need to identify what the unique stat values are:"
   ]
  },
  {
   "cell_type": "code",
   "execution_count": 36,
   "metadata": {},
   "outputs": [],
   "source": [
    "hp_stats = sorted(list(set([pokedex[p]['stats']['hp'] for p in pokelist])))\n",
    "atk_stats = sorted(list(set([pokedex[p]['stats']['atk'] for p in pokelist])))\n",
    "def_stats = sorted(list(set([pokedex[p]['stats']['def'] for p in pokelist])))\n",
    "spa_stats = sorted(list(set([pokedex[p]['stats']['spa'] for p in pokelist])))\n",
    "spd_stats = sorted(list(set([pokedex[p]['stats']['spd'] for p in pokelist])))\n",
    "spe_stats = sorted(list(set([pokedex[p]['stats']['spe'] for p in pokelist])))"
   ]
  },
  {
   "cell_type": "code",
   "execution_count": 37,
   "metadata": {},
   "outputs": [],
   "source": [
    "pokemat = np.zeros((len(pokelist), len(typelist) + 1 + 6 + len(hp_stats) + len(atk_stats) + len(def_stats) \\\n",
    "        + len(spa_stats) + len(spd_stats) + len(spe_stats) +  len(abilitylist) + len(movelist)))\n",
    "\n",
    "for i,p in enumerate(pokelist):\n",
    "    # bitvector of types\n",
    "    for t in pokedex[p]['types']: \n",
    "        pokemat[i,typelist.index(t)] = 1\n",
    "    # bit for whether it can evolve\n",
    "    if pokedex[p]['hasEvo'] > 0: \n",
    "        pokemat[i,18] = 1\n",
    "    # each stat's numerical value\n",
    "    pokemat[i,19] = pokedex[p]['stats']['hp'] \n",
    "    pokemat[i,20] = pokedex[p]['stats']['atk']\n",
    "    pokemat[i,21] = pokedex[p]['stats']['def']\n",
    "    pokemat[i,22] = pokedex[p]['stats']['spa']\n",
    "    pokemat[i,23] = pokedex[p]['stats']['spd']\n",
    "    pokemat[i,24] = pokedex[p]['stats']['spe']\n",
    "    # each stat's unique value\n",
    "    idx = 25 \n",
    "    pokemat[i,idx+hp_stats.index(pokedex[p]['stats']['hp'])] = 1\n",
    "    idx += len(hp_stats)\n",
    "    pokemat[i,idx+atk_stats.index(pokedex[p]['stats']['atk'])] = 1\n",
    "    idx += len(atk_stats)\n",
    "    pokemat[i,idx+def_stats.index(pokedex[p]['stats']['def'])] = 1\n",
    "    idx += len(def_stats)\n",
    "    pokemat[i,idx+spa_stats.index(pokedex[p]['stats']['spa'])] = 1\n",
    "    idx += len(spa_stats)\n",
    "    pokemat[i,idx+spd_stats.index(pokedex[p]['stats']['spd'])] = 1\n",
    "    idx += len(spd_stats)\n",
    "    pokemat[i,idx+spe_stats.index(pokedex[p]['stats']['spe'])] = 1\n",
    "    idx += len(spe_stats)\n",
    "    # bitvector of abilities\n",
    "    for a in pokedex[p]['abilities']: \n",
    "        pokemat[i,idx+abilitylist.index(a)] = 1\n",
    "    idx += len(abilitylist)\n",
    "    # bitvector of moves\n",
    "    for m in pokedex[p]['learnset']:\n",
    "        pokemat[i,idx+movelist.index(m)] = 1\n",
    "        \n",
    "# silvally's ability allows it to be any type,\n",
    "# so we give it special treatment\n",
    "pokemat[pokelist.index('silvally'),:18] = 1/18        "
   ]
  },
  {
   "cell_type": "markdown",
   "metadata": {},
   "source": [
    "Another thing that can be useful is to keep track of the names of each of the features. index_lookup will be a dictionary assigning names to feature indices, while index_names will be a list of the feature names in index order."
   ]
  },
  {
   "cell_type": "code",
   "execution_count": 41,
   "metadata": {},
   "outputs": [],
   "source": [
    "index_lookup = {'Type: ' + t: i for i,t in enumerate(typelist)}\n",
    "index_lookup['Has Evo'] = 18\n",
    "index_lookup['HP'] = 19\n",
    "index_lookup['Atk'] = 20\n",
    "index_lookup['Def'] = 21\n",
    "index_lookup['SpA'] = 22\n",
    "index_lookup['SpD'] = 23\n",
    "index_lookup['Spe'] = 24\n",
    "idx = 25\n",
    "for i,s in enumerate(hp_stats):\n",
    "    index_lookup['HP %d'%s] = idx + i\n",
    "idx += len(hp_stats)\n",
    "for i,s in enumerate(atk_stats):\n",
    "    index_lookup['Atk %d'%s] = idx + i\n",
    "idx += len(atk_stats)\n",
    "for i,s in enumerate(def_stats):\n",
    "    index_lookup['Def %d'%s] = idx + i\n",
    "idx += len(def_stats)\n",
    "for i,s in enumerate(spa_stats):\n",
    "    index_lookup['SpA %d'%s] = idx + i\n",
    "idx += len(spa_stats)\n",
    "for i,s in enumerate(spd_stats):\n",
    "    index_lookup['SpD %d'%s] = idx + i\n",
    "idx += len(spd_stats)\n",
    "for i,s in enumerate(spe_stats):\n",
    "    index_lookup['Spe %d'%s] = idx + i\n",
    "idx += len(spe_stats)\n",
    "for i,a in enumerate(abilitylist):\n",
    "    index_lookup['Ability: ' + a] = idx + i\n",
    "idx += len(abilitylist)\n",
    "for i,m in enumerate(movelist):\n",
    "    index_lookup['Move: ' + m] = idx + i\n",
    "index_name = [''] * len(index_lookup)\n",
    "for m,i in index_lookup.items():\n",
    "    index_name[i] = m"
   ]
  },
  {
   "cell_type": "markdown",
   "metadata": {},
   "source": [
    "And that's the Pokemon matrix! Feel free to expand this notebook to explore this matrix, otherwise I'll see you in the next notebook!"
   ]
  }
 ],
 "metadata": {
  "kernelspec": {
   "display_name": "Python 3",
   "language": "python",
   "name": "python3"
  },
  "language_info": {
   "codemirror_mode": {
    "name": "ipython",
    "version": 3
   },
   "file_extension": ".py",
   "mimetype": "text/x-python",
   "name": "python",
   "nbconvert_exporter": "python",
   "pygments_lexer": "ipython3",
   "version": "3.6.2"
  }
 },
 "nbformat": 4,
 "nbformat_minor": 4
}
